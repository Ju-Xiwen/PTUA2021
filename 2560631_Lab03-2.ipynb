{
 "cells": [
  {
   "cell_type": "markdown",
   "metadata": {},
   "source": [
    "## Simulating $\\pi$ -1"
   ]
  },
  {
   "cell_type": "code",
   "execution_count": 11,
   "metadata": {},
   "outputs": [],
   "source": [
    "import random\n",
    "import math\n",
    "import matplotlib.pyplot as plt\n",
    "pi=math.pi\n",
    "def simulating_pi(count,residual):\n",
    "    n = 0 # number of points falling in the unit circle\n",
    "    d = 0 # number of points falling in the unit square\n",
    "    simulating = True # use as a sentinel\n",
    "    while simulating:\n",
    "        x = random.nrandom()\n",
    "        y = random.random()\n",
    "        if x**2 + y**2 <= 1.0:\n",
    "            n += 1\n",
    "        d += 1\n",
    "        ratio = 4 * n * 1./d\n",
    "        if abs(ratio-pi) / pi <= residual:\n",
    "            print(\"Draws needed: \", d,' value: ', ratio)\n",
    "            break\n",
    "        if n == count:\n",
    "            print('Warning: Reached limit!')\n",
    "            break"
   ]
  },
  {
   "cell_type": "code",
   "execution_count": null,
   "metadata": {},
   "outputs": [],
   "source": [
    "simulating_pi(1000,0.01)"
   ]
  },
  {
   "cell_type": "markdown",
   "metadata": {},
   "source": [
    "## Simulating $\\pi$ -2"
   ]
  },
  {
   "cell_type": "code",
   "execution_count": 1,
   "metadata": {},
   "outputs": [],
   "source": [
    "import random\n",
    "import math\n",
    "import matplotlib.pyplot as plt"
   ]
  },
  {
   "cell_type": "code",
   "execution_count": 2,
   "metadata": {},
   "outputs": [],
   "source": [
    "pi=math.pi"
   ]
  },
  {
   "cell_type": "code",
   "execution_count": 9,
   "metadata": {},
   "outputs": [
    {
     "name": "stdout",
     "output_type": "stream",
     "text": [
      "Draws needed:  1328  value:  3.141566265060241\n",
      "Draws needed:  1356  value:  3.1415929203539825\n",
      "Draws needed:  1780  value:  3.141573033707865\n",
      "Draws needed:  1822  value:  3.141602634467618\n",
      "Draws needed:  1850  value:  3.1416216216216215\n",
      "Draws needed:  2507  value:  3.1416035101715196\n",
      "Draws needed:  2726  value:  3.141599413059428\n",
      "Draws needed:  2740  value:  3.141605839416058\n",
      "Draws needed:  2973  value:  3.1416078035654222\n",
      "Draws needed:  3001  value:  3.14161946017994\n"
     ]
    }
   ],
   "source": [
    "n = 0 # number of points falling in the unit circle\n",
    "d = 0 # number of points falling in the unit square\n",
    "for i in range(10):\n",
    "    simulating = True # use as a sentinel\n",
    "    while simulating:\n",
    "        x = random.nrandom()\n",
    "        y = random.random()\n",
    "        if x**2 + y**2 <= 1.0:\n",
    "            n += 1\n",
    "        d += 1\n",
    "        ratio = 4 * n * 1./d\n",
    "        if abs(ratio-pi) / pi <= 0.00001:\n",
    "            print(\"Draws needed: \", d,' value: ', ratio)\n",
    "            break"
   ]
  },
  {
   "cell_type": "code",
   "execution_count": 5,
   "metadata": {},
   "outputs": [
    {
     "name": "stdout",
     "output_type": "stream",
     "text": [
      "Draws needed:  247  value:  3.1417004048582995\n",
      "Draws needed:  261  value:  3.1417624521072796\n",
      "Draws needed:  862  value:  3.1415313225058004\n",
      "Draws needed:  983  value:  3.141403865717192\n",
      "Draws needed:  988  value:  3.1417004048582995\n",
      "Draws needed:  22703  value:  3.1417874289741445\n",
      "Draws needed:  22704  value:  3.141825229034531\n",
      "Draws needed:  22705  value:  3.141686853116054\n",
      "Draws needed:  22706  value:  3.141724654276403\n",
      "Draws needed:  22707  value:  3.1417624521072796\n"
     ]
    }
   ],
   "source": [
    "n = 0 # number of points falling in the unit circle\n",
    "d = 0 # number of points falling in the unit square\n",
    "for i in range(10):\n",
    "    simulating = True # use as a sentinel\n",
    "    while simulating:\n",
    "        x = random.random()\n",
    "        y = random.random()\n",
    "        if x**2 + y**2 <= 1.0:\n",
    "            n += 1\n",
    "        d += 1\n",
    "        ratio = 4 * n * 1./d\n",
    "        if abs(ratio-pi) / pi <= 0.0001:\n",
    "            print(\"Draws needed: \", d,' value: ', ratio)\n",
    "            break"
   ]
  },
  {
   "cell_type": "code",
   "execution_count": 6,
   "metadata": {},
   "outputs": [
    {
     "name": "stdout",
     "output_type": "stream",
     "text": [
      "Draws needed:  93  value:  3.139784946236559\n",
      "Draws needed:  112  value:  3.142857142857143\n",
      "Draws needed:  1459  value:  3.1446196024674435\n",
      "Draws needed:  1465  value:  3.1426621160409556\n",
      "Draws needed:  1466  value:  3.1432469304229196\n",
      "Draws needed:  1467  value:  3.1411042944785277\n",
      "Draws needed:  1468  value:  3.1416893732970026\n",
      "Draws needed:  1469  value:  3.1422736555479918\n",
      "Draws needed:  1470  value:  3.142857142857143\n",
      "Draws needed:  1471  value:  3.1434398368456833\n"
     ]
    }
   ],
   "source": [
    "n = 0 # number of points falling in the unit circle\n",
    "d = 0 # number of points falling in the unit square\n",
    "for i in range(10):\n",
    "    simulating = True # use as a sentinel\n",
    "    while simulating:\n",
    "        x = random.random()\n",
    "        y = random.random()\n",
    "        if x**2 + y**2 <= 1.0:\n",
    "            n += 1\n",
    "        d += 1\n",
    "        ratio = 4 * n * 1./d\n",
    "        if abs(ratio-pi) / pi <= 0.001:\n",
    "            print(\"Draws needed: \", d,' value: ', ratio)\n",
    "            break"
   ]
  },
  {
   "cell_type": "code",
   "execution_count": 12,
   "metadata": {},
   "outputs": [
    {
     "name": "stdout",
     "output_type": "stream",
     "text": [
      "Draws needed:  9  value:  3.111111111111111\n",
      "Draws needed:  23  value:  3.130434782608696\n",
      "Draws needed:  24  value:  3.1666666666666665\n",
      "Draws needed:  29  value:  3.1724137931034484\n",
      "Draws needed:  32  value:  3.125\n",
      "Draws needed:  72  value:  3.111111111111111\n",
      "Draws needed:  73  value:  3.1232876712328768\n",
      "Draws needed:  74  value:  3.135135135135135\n",
      "Draws needed:  75  value:  3.1466666666666665\n",
      "Draws needed:  76  value:  3.1578947368421053\n"
     ]
    }
   ],
   "source": [
    "n = 0 # number of points falling in the unit circle\n",
    "d = 0 # number of points falling in the unit square\n",
    "for i in range(10):\n",
    "    simulating = True # use as a sentinel\n",
    "    while simulating:\n",
    "        x = random.random()\n",
    "        y = random.random()\n",
    "        if x**2 + y**2 <= 1.0:\n",
    "            n += 1\n",
    "        d += 1\n",
    "        ratio = 4 * n * 1./d\n",
    "        if abs(ratio-pi) / pi <= 0.01:\n",
    "            print(\"Draws needed: \", d,' value: ', ratio)\n",
    "            break"
   ]
  },
  {
   "cell_type": "code",
   "execution_count": null,
   "metadata": {},
   "outputs": [],
   "source": []
  }
 ],
 "metadata": {
  "kernelspec": {
   "display_name": "Python 3",
   "language": "python",
   "name": "python3"
  },
  "language_info": {
   "codemirror_mode": {
    "name": "ipython",
    "version": 3
   },
   "file_extension": ".py",
   "mimetype": "text/x-python",
   "name": "python",
   "nbconvert_exporter": "python",
   "pygments_lexer": "ipython3",
   "version": "3.8.5"
  }
 },
 "nbformat": 4,
 "nbformat_minor": 4
}
